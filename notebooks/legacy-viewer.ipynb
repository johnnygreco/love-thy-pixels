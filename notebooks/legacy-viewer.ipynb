{
 "cells": [
  {
   "cell_type": "markdown",
   "metadata": {},
   "source": [
    "# Exploring the sky"
   ]
  },
  {
   "cell_type": "markdown",
   "metadata": {},
   "source": [
    "Now that you've seen how galaxy images are *much more* than pretty pictures, let's \n",
    "explore the sky with the [Legacy Survey Sky Viewer](http://legacysurvey.org/viewer)."
   ]
  },
  {
   "cell_type": "markdown",
   "metadata": {},
   "source": [
    "### View the sky in...\n",
    "\n",
    "- *optical light* by selecting \"LegacySurvey DR6+DR7\" in the menu on the right side of the viewer (this is the default viewing option)\n",
    "- *infrared light*  by selecting the \"unWise W1/W2 NEO4\" option\n",
    "- *ultraviolet light* by selecting the \"GALEX\" option"
   ]
  },
  {
   "cell_type": "markdown",
   "metadata": {},
   "source": [
    "### Name that galaxy type\n",
    "\n",
    "Switch to the \"SDSS\" sky viewer and enter the folling names into \"Jump to object\" at the bottom-left of the screen. Classify each galaxy as elliptical, spiral, irregular, or something else. How old do you think most of the stars are in each object? \n",
    "\n",
    "- NGC 5614\n",
    "- NGC 4594\n",
    "- M87 (there are lots of galaxies around this one... are they mostly ellipticals or spirals?)\n",
    "- M101\n",
    "- UGC 4879\n",
    "- NGC 4874 (**LOTS** of galaxies around this one too... are they mostly ellipticals or spirals? notice a pattern?) \n",
    "- IC 1613"
   ]
  },
  {
   "cell_type": "markdown",
   "metadata": {},
   "source": [
    "## Extragalactic Scavenger Hunt"
   ]
  },
  {
   "cell_type": "markdown",
   "metadata": {},
   "source": [
    "For your last activity, use the sky viewer to search for elliptical, spiral, and irregular galaxies. Which type seems to be the easiest to find? Click the \"NGC/IC galaxies\" checkbox in the menu on the right to see the names of well-known galaxies."
   ]
  },
  {
   "cell_type": "code",
   "execution_count": null,
   "metadata": {},
   "outputs": [],
   "source": []
  }
 ],
 "metadata": {
  "kernelspec": {
   "display_name": "Python 3",
   "language": "python",
   "name": "python3"
  },
  "language_info": {
   "codemirror_mode": {
    "name": "ipython",
    "version": 3
   },
   "file_extension": ".py",
   "mimetype": "text/x-python",
   "name": "python",
   "nbconvert_exporter": "python",
   "pygments_lexer": "ipython3",
   "version": "3.6.7"
  }
 },
 "nbformat": 4,
 "nbformat_minor": 2
}
