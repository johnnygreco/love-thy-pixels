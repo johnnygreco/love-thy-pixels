{
 "cells": [
  {
   "cell_type": "markdown",
   "metadata": {},
   "source": [
    "# Intro to Jupyter Notebooks and Python"
   ]
  },
  {
   "cell_type": "markdown",
   "metadata": {},
   "source": [
    "## Coding 101"
   ]
  },
  {
   "cell_type": "markdown",
   "metadata": {},
   "source": [
    "In this section you will learn the basics of using what we call a **notebook**. In order to have the computer do certain things we have to **code** them into a **script**. This script will \"live\" in the notebook and we will be able run each section (**cell**) seperately, allowing us to have an interactive coding experience. \n",
    "\n",
    "The coding language we will be using is called **python**, which is widely used in Astronomy. To get started, lets learn a few basic programing components we will need to complete this image processing project."
   ]
  },
  {
   "cell_type": "markdown",
   "metadata": {},
   "source": [
    "### Defining Variables"
   ]
  },
  {
   "cell_type": "markdown",
   "metadata": {},
   "source": [
    "A **variable** is an object that holds some value. Let's start by defining a few variables to see how they work.\n",
    "\n",
    "__TIP:__ To run the code in a cell, make sure to press `shift + enter` **at the same time**. This will tell the computer to do what you wrote in the cell, and remember any variables you set.\n",
    "\n",
    "__NOTE:__ Anytime you see or place a `#` it tells the computer to ignore everything on that line. "
   ]
  },
  {
   "cell_type": "code",
   "execution_count": 8,
   "metadata": {
    "collapsed": true
   },
   "outputs": [],
   "source": [
    "# Numbers can be set as variables\n",
    "\n",
    "a = 10\n",
    "b = 15\n",
    "\n",
    "# You can even set words (or letters) as variables\n",
    "\n",
    "city = 'Columbus'    # Note that the words have quotation marks around them\n",
    "state = 'Ohio'"
   ]
  },
  {
   "cell_type": "markdown",
   "metadata": {},
   "source": [
    "In order to see what the computer just stored you can use the `print()` function."
   ]
  },
  {
   "cell_type": "code",
   "execution_count": 9,
   "metadata": {},
   "outputs": [
    {
     "name": "stdout",
     "output_type": "stream",
     "text": [
      "10\n",
      "Ohio\n"
     ]
    }
   ],
   "source": [
    "print(a)\n",
    "print(state)"
   ]
  },
  {
   "cell_type": "markdown",
   "metadata": {},
   "source": [
    "Notice that *keywords* in Python like `print` are colored in the notebook.\n",
    "\n",
    "**Question:** What will happen if you set a new variable to a previous one?"
   ]
  },
  {
   "cell_type": "code",
   "execution_count": 12,
   "metadata": {
    "collapsed": true
   },
   "outputs": [],
   "source": [
    "a = 10\n",
    "b = a\n",
    "a = 2\n",
    "\n",
    "# What is b? print it out below\n",
    "\n"
   ]
  },
  {
   "cell_type": "markdown",
   "metadata": {},
   "source": [
    "## Operations on variables\n",
    "\n",
    "Variables are great and all, but they we'd like to do more with them. Let's perform operations with these variables. "
   ]
  },
  {
   "cell_type": "code",
   "execution_count": 15,
   "metadata": {},
   "outputs": [],
   "source": [
    "# You can use standard math operators\n",
    "multiply = a * b\n",
    "subtract = a - b\n",
    "\n",
    "# You can even use these operators on the word variables (called strings)\n",
    "add_string = city + ', ' + state\n"
   ]
  },
  {
   "cell_type": "code",
   "execution_count": 17,
   "metadata": {},
   "outputs": [],
   "source": [
    "# print out the previous variables below to see what they did:\n",
    "\n",
    "## your code here:\n",
    "\n",
    "\n",
    "# What happens if you do: state*3?\n",
    "\n",
    "## your code here:"
   ]
  },
  {
   "cell_type": "markdown",
   "metadata": {},
   "source": [
    "## Collections of things\n",
    "\n",
    "We just learned how to store variables and use different math operators on them. Next we'd like to learn how to work with a collection of these variables."
   ]
  },
  {
   "cell_type": "markdown",
   "metadata": {},
   "source": [
    "### Lists\n",
    "\n",
    "A list is the \"container\" where our variables will be stored. To start one open up brackets `[ ]` and start putiing variables inside.\n",
    "\n"
   ]
  },
  {
   "cell_type": "code",
   "execution_count": 19,
   "metadata": {},
   "outputs": [
    {
     "name": "stdout",
     "output_type": "stream",
     "text": [
      "<class 'list'>\n",
      "['guitar', 'bass', 'drums']\n"
     ]
    }
   ],
   "source": [
    "# Creating a word list:\n",
    "\n",
    "things = ['guitar', 'bass', 'drums']\n",
    "\n",
    "print(type(things))    # This will show you what type of \"container\" you have\n",
    "print(things)"
   ]
  },
  {
   "cell_type": "markdown",
   "metadata": {},
   "source": [
    "Sometimes we only want an individual element from our list. We'll use the **index** of the element to pick it out"
   ]
  },
  {
   "cell_type": "code",
   "execution_count": 20,
   "metadata": {},
   "outputs": [
    {
     "name": "stdout",
     "output_type": "stream",
     "text": [
      "guitar\n",
      "bass\n"
     ]
    }
   ],
   "source": [
    "# NOTE: The first index is zero, not one\n",
    "\n",
    "# First element\n",
    "print(things[0])\n",
    "\n",
    "# Second element\n",
    "print(things[1])\n"
   ]
  },
  {
   "cell_type": "markdown",
   "metadata": {},
   "source": [
    "We can also start counting from the end of the list"
   ]
  },
  {
   "cell_type": "code",
   "execution_count": 22,
   "metadata": {},
   "outputs": [
    {
     "name": "stdout",
     "output_type": "stream",
     "text": [
      "last element is: drums\n",
      "second to last element is: bass\n"
     ]
    }
   ],
   "source": [
    "print('last element is:', things[-1])\n",
    "print('second to last element is:', things[-2])"
   ]
  },
  {
   "cell_type": "markdown",
   "metadata": {},
   "source": [
    "### Lists of numbers\n",
    "\n",
    "You can also put numbers in lists. If the number doesn't have a decimal point, it will be an integer. If it has a decimal point, it will be what we call a \"floating point\" number or \"float\"."
   ]
  },
  {
   "cell_type": "code",
   "execution_count": 23,
   "metadata": {
    "collapsed": true
   },
   "outputs": [],
   "source": [
    "# What will happen when we add the following two lists together? \n",
    "numbers = [1, 2, 3]\n",
    "more_numbers = [3.0, 5.0, 6.0]\n",
    "\n",
    "# print both lists\n",
    "\n",
    "\n"
   ]
  },
  {
   "cell_type": "markdown",
   "metadata": {},
   "source": [
    "Coordinates in a graph (x, y) can also be collected into a list:"
   ]
  },
  {
   "cell_type": "code",
   "execution_count": 26,
   "metadata": {
    "collapsed": true
   },
   "outputs": [],
   "source": [
    "coordiates = [(5., 2.), (1.3, 6.2), (10.2, 4.0)]\n",
    "\n"
   ]
  },
  {
   "cell_type": "markdown",
   "metadata": {},
   "source": [
    "### Functions\n",
    "\n",
    "In programming, we often use \"functions\" to help us carry out tasks that we do many times (like the `print` function you used above). Functions are created with a `def` statement, which stands for define."
   ]
  },
  {
   "cell_type": "code",
   "execution_count": 43,
   "metadata": {},
   "outputs": [
    {
     "name": "stdout",
     "output_type": "stream",
     "text": [
      "Hi!\n"
     ]
    }
   ],
   "source": [
    "def say_hi():\n",
    "    print('Hi!')\n",
    "    \n",
    "# call functions like this\n",
    "\n",
    "say_hi()"
   ]
  },
  {
   "cell_type": "markdown",
   "metadata": {},
   "source": [
    "Functions can take *arguments*, on which it carries out some task"
   ]
  },
  {
   "cell_type": "code",
   "execution_count": 30,
   "metadata": {},
   "outputs": [
    {
     "name": "stdout",
     "output_type": "stream",
     "text": [
      "Look, I am saying good things about dogs!\n"
     ]
    }
   ],
   "source": [
    "def say_something(some, thing):\n",
    "    print('Look, I am saying ' + some + ' about ' + thing)\n",
    "    \n",
    "say_something('good things', 'dogs!')    "
   ]
  },
  {
   "cell_type": "markdown",
   "metadata": {},
   "source": [
    "You may aslo want to do some math in a function and `return` the results. Try out the function below with integers and floats as the arguments."
   ]
  },
  {
   "cell_type": "code",
   "execution_count": 39,
   "metadata": {},
   "outputs": [],
   "source": [
    "def do_some_math(x, y):\n",
    "    result = x**2 * y\n",
    "    return result"
   ]
  },
  {
   "cell_type": "code",
   "execution_count": 42,
   "metadata": {},
   "outputs": [
    {
     "name": "stdout",
     "output_type": "stream",
     "text": [
      "5.0\n",
      "80\n"
     ]
    }
   ],
   "source": [
    "print(do_some_math(1.0, 5.0))\n",
    "print(do_some_math(4, 5))"
   ]
  },
  {
   "cell_type": "markdown",
   "metadata": {},
   "source": [
    "**Congrats!** You now know some basic python coding!"
   ]
  }
 ],
 "metadata": {
  "kernelspec": {
   "display_name": "Python 3",
   "language": "python",
   "name": "python3"
  },
  "language_info": {
   "codemirror_mode": {
    "name": "ipython",
    "version": 3
   },
   "file_extension": ".py",
   "mimetype": "text/x-python",
   "name": "python",
   "nbconvert_exporter": "python",
   "pygments_lexer": "ipython3",
   "version": "3.6.7"
  }
 },
 "nbformat": 4,
 "nbformat_minor": 2
}
