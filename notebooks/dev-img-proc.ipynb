{
 "cells": [
  {
   "cell_type": "markdown",
   "metadata": {},
   "source": [
    "# Coding 101"
   ]
  },
  {
   "cell_type": "markdown",
   "metadata": {},
   "source": [
    "In this section you will learn the basics of using what we call a **notebook**. In order to have the computer do certain things we have to **code** them into a **script**. This script will \"live\" in the notebook and we will be able run each section (**cell**) seperately, allowing us to have an interactive coding experience. \n",
    "\n",
    "The coding language we will be using is called **python**, which is widely used in Astronomy. To get started, lets learn a few basic programing components we will need to complete this image processing project."
   ]
  },
  {
   "cell_type": "markdown",
   "metadata": {},
   "source": [
    "## Defining Variables"
   ]
  },
  {
   "cell_type": "markdown",
   "metadata": {},
   "source": [
    "A **variable** is an object that holds some value. Let's start by defining a few variables to see how they work.\n",
    "\n",
    "__TIP:__ To run the code in a cell, make sure to press `shift + enter` **at the same time**. This will tell the computer to do what you wrote in the cell, and remember any variables you set.\n",
    "\n",
    "__NOTE:__ Anytime you see or place a `#` it tells the computer to ignore everything on that line. "
   ]
  },
  {
   "cell_type": "code",
   "execution_count": 19,
   "metadata": {
    "collapsed": true
   },
   "outputs": [],
   "source": [
    "# Numbers can be set as variables\n",
    "\n",
    "a = 10\n",
    "b = 15\n",
    "\n",
    "cat = 20\n",
    "guinea_pig = 30\n",
    "\n",
    "# You can even set words (or letters) as variables\n",
    "\n",
    "city = 'Columbus'    # Note that the words have quotation marks around them\n",
    "state = 'Ohio'"
   ]
  },
  {
   "cell_type": "markdown",
   "metadata": {},
   "source": [
    "In order to see what the computer just stored you can use the `print()` function."
   ]
  },
  {
   "cell_type": "code",
   "execution_count": 20,
   "metadata": {},
   "outputs": [
    {
     "name": "stdout",
     "output_type": "stream",
     "text": [
      "10\n",
      "20\n",
      "Ohio\n"
     ]
    }
   ],
   "source": [
    "print(a)\n",
    "print(cat)\n",
    "print(state)"
   ]
  },
  {
   "cell_type": "markdown",
   "metadata": {},
   "source": [
    "**Question:** What will happen if you set a new variable to a previous one?"
   ]
  },
  {
   "cell_type": "code",
   "execution_count": 24,
   "metadata": {
    "collapsed": true
   },
   "outputs": [],
   "source": [
    "a = 10\n",
    "b = a\n",
    "a = 2\n",
    "\n",
    "# What is b? print it out below\n",
    "\n",
    "\n",
    "   "
   ]
  },
  {
   "cell_type": "markdown",
   "metadata": {},
   "source": [
    "## Operations on variables\n",
    "\n",
    "Variables are great and all, but they we'd like to do more with them. Let's perform operations with these variables. "
   ]
  },
  {
   "cell_type": "code",
   "execution_count": 25,
   "metadata": {},
   "outputs": [],
   "source": [
    "# You can use standard math operators\n",
    "multiply = a*b\n",
    "subtract = guinea_pig - cat\n",
    "\n",
    "# You can even use these operators on the word variables (called strings)\n",
    "add = city + ', ' + state\n"
   ]
  },
  {
   "cell_type": "code",
   "execution_count": 26,
   "metadata": {},
   "outputs": [],
   "source": [
    "# print out the previous variables below to see what they did:\n",
    "\n",
    "## your code here:\n",
    "\n",
    "\n",
    "\n",
    "\n",
    "\n",
    "\n",
    "# What happens if you do: state*3?\n",
    "\n",
    "## your code here:"
   ]
  },
  {
   "cell_type": "markdown",
   "metadata": {},
   "source": [
    "## Collections of things\n",
    "\n",
    "We just learned how to store variables and use different math operators on them. Next we'd like to learn how to work with a collection of these variables."
   ]
  },
  {
   "cell_type": "markdown",
   "metadata": {},
   "source": [
    "### Lists\n",
    "\n",
    "A list is the \"container\" where our variables will be stored. To start one open up brackets `[ ]` and start putiing variables inside.\n",
    "\n"
   ]
  },
  {
   "cell_type": "code",
   "execution_count": 28,
   "metadata": {},
   "outputs": [
    {
     "name": "stdout",
     "output_type": "stream",
     "text": [
      "<class 'list'>\n",
      "['guitar', 'bass', 'drums']\n"
     ]
    }
   ],
   "source": [
    "# Creating a word list:\n",
    "\n",
    "a = ['guitar', 'bass', 'drums']\n",
    "\n",
    "print(type(a))    # This will show you what type of \"container\" you have\n",
    "print(a)"
   ]
  },
  {
   "cell_type": "markdown",
   "metadata": {},
   "source": [
    "Sometimes we only want an individual element from our list. We'll use the **index** of the element to pick it out"
   ]
  },
  {
   "cell_type": "code",
   "execution_count": 29,
   "metadata": {},
   "outputs": [
    {
     "name": "stdout",
     "output_type": "stream",
     "text": [
      "guitar\n",
      "bass\n"
     ]
    }
   ],
   "source": [
    "# NOTE: The first index is zero, not one\n",
    "\n",
    "# First element\n",
    "print(a[0])\n",
    "\n",
    "# Second element\n",
    "print(a[1])\n"
   ]
  },
  {
   "cell_type": "markdown",
   "metadata": {},
   "source": [
    "We can also start counting from the end of the list"
   ]
  },
  {
   "cell_type": "code",
   "execution_count": 30,
   "metadata": {},
   "outputs": [
    {
     "name": "stdout",
     "output_type": "stream",
     "text": [
      "last element is: drums\n",
      "second to last element is: bass\n"
     ]
    }
   ],
   "source": [
    "print('last element is:', a[-1])\n",
    "print('second to last element is:', a[-2])"
   ]
  },
  {
   "cell_type": "markdown",
   "metadata": {},
   "source": [
    "### List operations\n",
    "\n",
    "The `+` and `*` operators can be used on lists."
   ]
  },
  {
   "cell_type": "code",
   "execution_count": 31,
   "metadata": {
    "collapsed": true
   },
   "outputs": [],
   "source": [
    "# What will happen when we add the following two lists together? \n",
    "list1 = [1,2,3]\n",
    "list2 = [4,5,6]\n",
    "\n",
    "# print out the addition of both lists\n",
    "\n",
    "## your code here:\n",
    "\n"
   ]
  },
  {
   "cell_type": "code",
   "execution_count": 98,
   "metadata": {
    "collapsed": true
   },
   "outputs": [],
   "source": [
    "# What happens when you multiply a list by an interger?\n",
    "\n",
    "## your code here"
   ]
  },
  {
   "cell_type": "markdown",
   "metadata": {},
   "source": [
    "Congrats! You now know some basic python coding!\n",
    "\n",
    "There is one more important thing to learn before we actually start our image processing project, that is knowing how to work with images. \n",
    "\n",
    "__NOTE:__ Before we begin run the following code cell. It will import several python packages that will allow you to easily work with images.\n"
   ]
  },
  {
   "cell_type": "code",
   "execution_count": 11,
   "metadata": {
    "collapsed": true
   },
   "outputs": [],
   "source": [
    "%config InlineBackend.figure_format = 'retina'\n",
    "import numpy as np\n",
    "import matplotlib.pyplot as plt\n",
    "import matplotlib.image as mpimg\n",
    "\n",
    "from dev_img_backcode import circle\n",
    "yy, xx = np.mgrid[:11, :11]"
   ]
  },
  {
   "cell_type": "code",
   "execution_count": 9,
   "metadata": {},
   "outputs": [
    {
     "data": {
      "text/plain": [
       "(11, 11)"
      ]
     },
     "execution_count": 9,
     "metadata": {},
     "output_type": "execute_result"
    }
   ],
   "source": [
    "circle.shape"
   ]
  },
  {
   "cell_type": "markdown",
   "metadata": {},
   "source": [
    "# Images\n",
    "\n",
    "Images are made up of small picture components, called **pixels**, organized in arrays. Let's check this out for a simple image.\n",
    "\n",
    "We will start out by first making an image of a simple circle. In order to see it as an image we need to use the command `plt.imshow( )`. \n",
    "Inside the parentheses we will write the variable we set for our circle.\n"
   ]
  },
  {
   "cell_type": "code",
   "execution_count": 17,
   "metadata": {},
   "outputs": [
    {
     "data": {
      "text/plain": [
       "<matplotlib.image.AxesImage at 0x1063444e0>"
      ]
     },
     "execution_count": 17,
     "metadata": {},
     "output_type": "execute_result"
    },
    {
     "data": {
      "image/png": "[encoded data removed]",
      "text/plain": [
       "<Figure size 432x288 with 1 Axes>"
      ]
     },
     "metadata": {
      "image/png": {
       "height": 250,
       "width": 253
      },
      "needs_background": "light"
     },
     "output_type": "display_data"
    }
   ],
   "source": [
    "circle_image = circle(xx,yy)\n",
    "plt.imshow(circle_image, cmap='gray')"
   ]
  },
  {
   "cell_type": "markdown",
   "metadata": {},
   "source": [
    "As you can see this is a simple image of a circle. Let's now see what it looks like in **pixels**. To do that just type in the variable name in the cell bellow: "
   ]
  },
  {
   "cell_type": "code",
   "execution_count": 41,
   "metadata": {},
   "outputs": [
    {
     "data": {
      "text/plain": [
       "array([[0, 0, 0, 0, 0, 0, 0, 0, 0, 0, 0],\n",
       "       [0, 0, 0, 1, 1, 1, 1, 1, 0, 0, 0],\n",
       "       [0, 0, 1, 1, 1, 1, 1, 1, 1, 0, 0],\n",
       "       [0, 1, 1, 1, 1, 1, 1, 1, 1, 1, 0],\n",
       "       [0, 1, 1, 1, 1, 1, 1, 1, 1, 1, 0],\n",
       "       [0, 1, 1, 1, 1, 1, 1, 1, 1, 1, 0],\n",
       "       [0, 1, 1, 1, 1, 1, 1, 1, 1, 1, 0],\n",
       "       [0, 1, 1, 1, 1, 1, 1, 1, 1, 1, 0],\n",
       "       [0, 0, 1, 1, 1, 1, 1, 1, 1, 0, 0],\n",
       "       [0, 0, 0, 1, 1, 1, 1, 1, 0, 0, 0],\n",
       "       [0, 0, 0, 0, 0, 0, 0, 0, 0, 0, 0]])"
      ]
     },
     "execution_count": 41,
     "metadata": {},
     "output_type": "execute_result"
    }
   ],
   "source": [
    "circle"
   ]
  },
  {
   "cell_type": "markdown",
   "metadata": {},
   "source": [
    "**Group Questions:** \n",
    "* Why are these pixel values only 0 or 1? \n",
    "* What would happen if it were a gray scale image instead?\n",
    "* What do we mean when we say 'array'?"
   ]
  },
  {
   "cell_type": "markdown",
   "metadata": {},
   "source": []
  },
  {
   "cell_type": "code",
   "execution_count": null,
   "metadata": {},
   "outputs": [],
   "source": []
  },
  {
   "cell_type": "code",
   "execution_count": null,
   "metadata": {
    "collapsed": true
   },
   "outputs": [],
   "source": []
  },
  {
   "cell_type": "code",
   "execution_count": null,
   "metadata": {},
   "outputs": [],
   "source": []
  },
  {
   "cell_type": "code",
   "execution_count": null,
   "metadata": {
    "collapsed": true
   },
   "outputs": [],
   "source": [
    "img = mpimg.imread('../images/puppy.jpg')"
   ]
  },
  {
   "cell_type": "code",
   "execution_count": null,
   "metadata": {},
   "outputs": [],
   "source": [
    "plt.figure(figsize=(8, 8))\n",
    "plt.imshow(img)\n",
    "#plt.axis('off');"
   ]
  },
  {
   "cell_type": "code",
   "execution_count": null,
   "metadata": {},
   "outputs": [],
   "source": [
    "reds = img.copy()\n",
    "reds[:, :, 1] = 0\n",
    "reds[:, :, 2] = 0\n",
    "\n",
    "greens = img.copy()\n",
    "greens[:, :, 0] = 0\n",
    "greens[:, :, 2] = 0\n",
    "\n",
    "blues = img.copy()\n",
    "blues[:, :, 0] = 0\n",
    "blues[:, :, 1] = 0\n",
    "\n",
    "\n",
    "fig, axes = plt.subplots(1, 4, figsize=(16, 8), \n",
    "                         subplot_kw=dict(xticks=[], yticks=[]))\n",
    "\n",
    "fs = 18\n",
    "axes[0].imshow(img)\n",
    "axes[0].set_title('full color puppy', fontsize=fs)\n",
    "axes[1].imshow(reds)\n",
    "axes[1].set_title('red channel', fontsize=fs)\n",
    "axes[2].imshow(greens)\n",
    "axes[2].set_title('green channel', fontsize=fs)\n",
    "axes[3].imshow(blues)\n",
    "axes[3].set_title('blue channel', fontsize=fs);"
   ]
  },
  {
   "cell_type": "code",
   "execution_count": null,
   "metadata": {},
   "outputs": [],
   "source": [
    "subimg = img[68:135, 260:335]\n",
    "\n",
    "plt.imshow(subimg)"
   ]
  },
  {
   "cell_type": "raw",
   "metadata": {},
   "source": [
    "circ"
   ]
  },
  {
   "cell_type": "code",
   "execution_count": null,
   "metadata": {
    "collapsed": true
   },
   "outputs": [],
   "source": []
  }
 ],
 "metadata": {
  "kernelspec": {
   "display_name": "Python 3",
   "language": "python",
   "name": "python3"
  },
  "language_info": {
   "codemirror_mode": {
    "name": "ipython",
    "version": 3
   },
   "file_extension": ".py",
   "mimetype": "text/x-python",
   "name": "python",
   "nbconvert_exporter": "python",
   "pygments_lexer": "ipython3",
   "version": "3.7.2"
  }
 },
 "nbformat": 4,
 "nbformat_minor": 2
}
